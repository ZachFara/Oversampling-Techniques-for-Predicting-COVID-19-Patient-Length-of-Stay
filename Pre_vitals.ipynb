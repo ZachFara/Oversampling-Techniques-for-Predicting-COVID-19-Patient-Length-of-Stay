{
 "cells": [
  {
   "cell_type": "code",
   "execution_count": 1,
   "metadata": {
    "colab": {
     "base_uri": "https://localhost:8080/"
    },
    "executionInfo": {
     "elapsed": 16312,
     "status": "ok",
     "timestamp": 1627592570377,
     "user": {
      "displayName": "Zach Farahany",
      "photoUrl": "",
      "userId": "17909561336891020108"
     },
     "user_tz": 300
    },
    "id": "027k4I8kDctU",
    "outputId": "0089d567-2a76-4092-f20e-e7d5a3487e08"
   },
   "outputs": [],
   "source": [
    "#Import data and libraries\n",
    "import pandas as pd\n",
    "global vitals\n",
    "vitals = pd.read_csv('Data/covid/vitals.csv', usecols = ['patient_num','measure_date_shifted',\n",
    "'height','weight','bmi','bp_diastolic','bp_systolic'],low_memory = False)"
   ]
  },
  {
   "cell_type": "code",
   "execution_count": 2,
   "metadata": {
    "executionInfo": {
     "elapsed": 610,
     "status": "ok",
     "timestamp": 1627592587347,
     "user": {
      "displayName": "Zach Farahany",
      "photoUrl": "",
      "userId": "17909561336891020108"
     },
     "user_tz": 300
    },
    "id": "Q1hU5yW-KkqZ"
   },
   "outputs": [
    {
     "name": "stderr",
     "output_type": "stream",
     "text": [
      "C:\\Users\\zfarahany\\AppData\\Local\\Programs\\Python\\Python39\\lib\\site-packages\\pandas\\core\\generic.py:5516: SettingWithCopyWarning: \n",
      "A value is trying to be set on a copy of a slice from a DataFrame.\n",
      "Try using .loc[row_indexer,col_indexer] = value instead\n",
      "\n",
      "See the caveats in the documentation: https://pandas.pydata.org/pandas-docs/stable/user_guide/indexing.html#returning-a-view-versus-a-copy\n",
      "  self[name] = value\n"
     ]
    }
   ],
   "source": [
    "#Make it so that we only have information on one patient, keep the most recent\n",
    "wip_vitals = vitals.drop_duplicates()\n",
    "wip_vitals.measure_date_shifted = pd.to_datetime(wip_vitals.measure_date_shifted)\n",
    "wip_vitals = wip_vitals.sort_values('measure_date_shifted').drop_duplicates(['patient_num'],keep='last')"
   ]
  },
  {
   "cell_type": "code",
   "execution_count": 3,
   "metadata": {
    "executionInfo": {
     "elapsed": 5752,
     "status": "ok",
     "timestamp": 1627592600797,
     "user": {
      "displayName": "Zach Farahany",
      "photoUrl": "",
      "userId": "17909561336891020108"
     },
     "user_tz": 300
    },
    "id": "AlmVLnovJtOl"
   },
   "outputs": [],
   "source": [
    "#Create pivot table\n",
    "vitals_df = pd.DataFrame(index=wip_vitals.patient_num.unique(), columns=['height', 'weight', 'bmi', 'bp_diastolic', 'bp_systolic'])\n",
    "#Enter info into the pivot table\n",
    "for index, row in wip_vitals.iterrows():\n",
    "  vitals_df.loc[row['patient_num']] = [row['height'],row['weight'],row['bmi'],row['bp_diastolic'],row['bp_systolic']]\n",
    "vitals_df.to_csv('Data/data_set/vitals_df.csv')"
   ]
  }
 ],
 "metadata": {
  "accelerator": "TPU",
  "colab": {
   "authorship_tag": "ABX9TyMUCuGoS8sam/REhCC45lig",
   "machine_shape": "hm",
   "name": "Vitals_preprocessing.ipynb",
   "provenance": []
  },
  "kernelspec": {
   "display_name": "Python 3",
   "language": "python",
   "name": "python3"
  },
  "language_info": {
   "codemirror_mode": {
    "name": "ipython",
    "version": 3
   },
   "file_extension": ".py",
   "mimetype": "text/x-python",
   "name": "python",
   "nbconvert_exporter": "python",
   "pygments_lexer": "ipython3",
   "version": "3.9.8"
  }
 },
 "nbformat": 4,
 "nbformat_minor": 4
}
