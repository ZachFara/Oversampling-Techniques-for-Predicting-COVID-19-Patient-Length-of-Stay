{
 "cells": [
  {
   "cell_type": "code",
   "execution_count": 2,
   "metadata": {
    "colab": {
     "base_uri": "https://localhost:8080/"
    },
    "executionInfo": {
     "elapsed": 23956,
     "status": "ok",
     "timestamp": 1627592372981,
     "user": {
      "displayName": "Zach Farahany",
      "photoUrl": "",
      "userId": "17909561336891020108"
     },
     "user_tz": 300
    },
    "id": "UyDhjAlNOOFy",
    "outputId": "a7793463-2193-4afc-ce6d-f21ba15220da"
   },
   "outputs": [],
   "source": [
    "import pandas as pd\n",
    "import numpy as np\n",
    "c_social_history = pd.read_csv('Data/covid/social_history_lifestyle.csv', low_memory = False)\n",
    "df = pd.read_csv('Data/Opioid_1/social_history_lifestyle.csv', low_memory = False)\n",
    "df1 = pd.read_csv('Data/Opioid_2/social_history_lifestyle.csv', low_memory = False)\n",
    "o_social_history = pd.concat([df,df1], ignore_index=True)\n",
    "social_history = pd.concat([c_social_history,o_social_history], ignore_index=True)"
   ]
  },
  {
   "cell_type": "code",
   "execution_count": 3,
   "metadata": {
    "colab": {
     "base_uri": "https://localhost:8080/"
    },
    "executionInfo": {
     "elapsed": 799,
     "status": "ok",
     "timestamp": 1627592380338,
     "user": {
      "displayName": "Zach Farahany",
      "photoUrl": "",
      "userId": "17909561336891020108"
     },
     "user_tz": 300
    },
    "id": "8N2oOqju9gdp",
    "outputId": "2b43229b-03e3-40e1-f0f5-12afaf487de7"
   },
   "outputs": [
    {
     "name": "stderr",
     "output_type": "stream",
     "text": [
      "C:\\Users\\zfarahany\\AppData\\Local\\Programs\\Python\\Python39\\lib\\site-packages\\pandas\\core\\generic.py:5516: SettingWithCopyWarning: \n",
      "A value is trying to be set on a copy of a slice from a DataFrame.\n",
      "Try using .loc[row_indexer,col_indexer] = value instead\n",
      "\n",
      "See the caveats in the documentation: https://pandas.pydata.org/pandas-docs/stable/user_guide/indexing.html#returning-a-view-versus-a-copy\n",
      "  self[name] = value\n"
     ]
    }
   ],
   "source": [
    "#Trim defined\n",
    "trim = social_history[['patient_num','contact_date_shifted','edu_level_name','alcohol_use_name','ill_drug_user_name','tobacco_user_name','sexually_active_name','fin_resource_strain_name','ipv_emotional_abuse_name','ipv_fear_name','ipv_sexual_abuse_name','ipv_physical_abuse_name','living_w_spouse_name','daily_stress_name','socialization_freq_name','church_attendance_name','phys_act_days_per_week_name','food_insecurity_scarce_name','med_transport_needs_name']]\n",
    "trim.contact_date_shifted = pd.to_datetime(trim.contact_date_shifted)\n",
    "trim = trim.sort_values('contact_date_shifted').drop_duplicates(['patient_num'],keep='last')"
   ]
  },
  {
   "cell_type": "code",
   "execution_count": 4,
   "metadata": {
    "executionInfo": {
     "elapsed": 267,
     "status": "ok",
     "timestamp": 1627592382375,
     "user": {
      "displayName": "Zach Farahany",
      "photoUrl": "",
      "userId": "17909561336891020108"
     },
     "user_tz": 300
    },
    "id": "GeqqULkxASwr"
   },
   "outputs": [],
   "source": [
    "#Reducing dimensionality and specifying column attributes\n",
    "#Dealing with the large amount of categorical variables in this dataset\n",
    "\n",
    "trim['edu_level_name'] = trim['edu_level_name'].map({'Some college, no degree': 'Some college, no degree',\"Bachelor's degree (e.g., BA, AB, BS)\": 'Bachelors Degree', \"Master's degree (e.g., MA, MS, MEng, MEd, MSW, MBA)\": 'Masters Degree',\n",
    "                            'Professional school degree (e.g., MD, DDS, DVM, JD)':'Professional School Degree','12th grade':'Non-Highschool Grad','11th grade':'Non-Highschool Grad','10th grade':'Non-Highschool Grad','9th grade':'Non-Highschool Grad',\n",
    "                            'GED or equivalent':'Highschool graduate or equivalent', 'High school graduate':'High school graduate or equivalent','Associate degree: occupational, technical, or vocational program':'Associates degree',\n",
    "                            'Associate degree: academic program':'Associates degree','Doctorate':'Doctorate'},na_action='ignore')\n",
    "trim['edu_level_name'].fillna(value = 'Unknown degree',inplace = True)\n",
    "\n",
    "\n",
    "trim['alcohol_use_name'] = trim['alcohol_use_name'].map({'Yes':'Yes(Alcohol Use)','No':'No(Alcohol Use)','Not asked(Alcohol Use)':'Not asked(Alcohol Use)',\n",
    "                                                         'Never':'No(Alcohol Use)','Not Currently':'Yes(Alcohol Use)'},na_action='ignore')\n",
    "trim['alcohol_use_name'].fillna(value = 'Not asked(Alcohol Use)',inplace = True)\n",
    "\n",
    "\n",
    "\n",
    "trim['tobacco_user_name'] = trim['tobacco_user_name'].map({'Passive':'Yes(Tobacco)', 'Yes':'Yes(Tobacco)', 'Never':'No(Tobacco)',\n",
    "                                                           'Quit':'Yes(Tobacco)', 'Not Asked':'Not Asked(Tobacco)'},na_action='ignore')\n",
    "trim['tobacco_user_name'].fillna(value = 'Not asked(Tobacco)',inplace = True)\n",
    "\n",
    "\n",
    "\n",
    "trim['ill_drug_user_name'] = trim['ill_drug_user_name'].map({'Yes':'Yes(Illegal Drugs)','No':'No(Illegal Drugs)','Not asked':'Not asked(Illegal Drugs)',\n",
    "                                                         'Never':'No(Illegal Drugs)','Not Currently':'Yes(Illegal Drugs)'})\n",
    "trim['ill_drug_user_name'].fillna(value = 'Not asked(Illegal Drugs)',inplace = True)\n",
    "\n",
    "\n",
    "trim['ipv_emotional_abuse_name'] = trim['ipv_emotional_abuse_name'].map({'Yes':'Yes(Emotional Abuse)', 'No':'No(Emotional Abuse)',\n",
    "                                                           'Patient refused':'Patient refused(Emotional Abuse)'},na_action='ignore')\n",
    "trim['ipv_emotional_abuse_name'].fillna(value = 'Patient refused(Emotional Abuse)',inplace = True)\n",
    "\n",
    "\n",
    "\n",
    "trim['med_transport_needs_name'] = trim['med_transport_needs_name'].map({'Yes':'Yes(Med transport)', 'No':'No(Med transport)',\n",
    "                                                           'Patient refused':'Patient refused(Med transport)'},na_action='ignore')\n",
    "trim['med_transport_needs_name'].fillna(value = 'Patient refused(Med transport)',inplace = True)\n",
    "\n",
    "\n",
    "\n",
    "trim['fin_resource_strain_name'] = trim['fin_resource_strain_name'].map({'Not hard at all':'Not hard at all(Fin Strain)', 'Somewhat hard':'Somewhat hard(Fin Strain)',\n",
    "                                                                         'Not very hard':'Not very hard(Fin Strain)', 'Hard':'Hard(Fin Strain)',\n",
    "                                                                         'Patient refused':'Patient refused(Fin Strain)'},na_action='ignore')\n",
    "trim['fin_resource_strain_name'].fillna(value = 'Patient refused(Fin Strain)',inplace = True)\n",
    "\n",
    "\n",
    "trim['daily_stress_name'] = trim['daily_stress_name'].map({'Not at all':'Not at all(Stress)', 'Only a little':'Only a little(Stress)',\n",
    "                                                           'Very much':'Very much(Stress)', 'To some extent':'To some extent(Stress)',\n",
    "                                                           'Rather much':'Rather much(Stress)', 'Patient refused':'Patient refused(Stress)'},na_action='ignore')\n",
    "trim['daily_stress_name'].fillna(value = 'Patient refused(Stress)',inplace = True)\n",
    "\n",
    "\n",
    "\n",
    "trim['socialization_freq_name'] = trim['socialization_freq_name'].map({'More than three times a week':'More than three times a week(Socialization)', 'Twice a week':'Twice a week(Socialization)',\n",
    "                                                                       'Once a week':'Once a week(Socialization)','Patient refused':'Patient refused(Socialization)',\n",
    "                                                                       'Never':'Never(Socialization)', 'Three times a week':'Three times a week(Socialization)',\n",
    "                                                                       'Not asked':'Not asked(Socialization)'},na_action='ignore')\n",
    "trim['socialization_freq_name'].fillna(value = 'Not asked(Socialization)',inplace = True)\n",
    "\n",
    "\n",
    "\n",
    "trim['church_attendance_name'] = trim['church_attendance_name'].map({'More than 4 times per year':'More than 4 times per year(Church)', '1 to 4 times per year':'1 to 4 times per year(Church)',\n",
    "                                                                     'Never':'Never(Church)', 'Patient refused':'Patient refused(Church)', \n",
    "                                                                     'Not asked':'Not asked(Church)'},na_action='ignore')\n",
    "trim['church_attendance_name'].fillna(value = 'Not asked(Church)',inplace = True)\n",
    "\n",
    "\n",
    "\n",
    "trim['phys_act_days_per_week_name'] = trim['phys_act_days_per_week_name'].map({'2 days':'2 days(Exercise)', '3 days':'3 days(Exercise)', '5 days':'5 days(Exercise)', '6 days':'6 days(Exercise)',\n",
    "                                                                               '4 days':'4 days(Exercise)', '0 days':'0 days(Exercise)','7 days':'7 days(Exercise)', 'Patient refused':'Patient refused(Exercise)',\n",
    "                                                                               '1 day':'1 days(Exercise)'},na_action='ignore')\n",
    "trim['phys_act_days_per_week_name'].fillna(value = 'Patient refused(Exercise)',inplace = True)\n",
    "\n",
    "\n",
    "trim['food_insecurity_scarce_name'] = trim['food_insecurity_scarce_name'].map({'Never true': 'No food scarcity', 'Patient refused': 'Patient refused(Food scarcity)',\n",
    "                                                                               'Sometimes true':'Sometimes food scarcity'},na_action='ignore')\n",
    "trim['food_insecurity_scarce_name'].fillna(value = 'Patient refused(Food scarcity)',inplace = True)\n",
    "\n",
    "\n",
    "trim['sexually_active_name'] = trim['sexually_active_name'].map({'Not Asked':'Not asked (Sexually active)','Yes':'Yes (Sexually active)','Never':'No (Sexually active)','Not Currently':'Not currently(Sexually active)'},na_action='ignore')\n",
    "trim['sexually_active_name'].fillna(value = 'Not asked (Sexually active)',inplace = True)\n",
    "\n",
    "\n",
    "trim['living_w_spouse_name'] = trim['living_w_spouse_name'].map({'Married':'Living with partner','Living with partner':'Living with partner',\n",
    "                                                                 'Not asked':'Not asked (Living w partner)','Never married':'Not Living with partner',\n",
    "                                                                 'Widowed':'Not Living with partner','Patient refused':'Not asked (Living w partner)',\n",
    "                                                                 'Divorced':'Not asked (Living w partner)'},na_action='ignore')\n",
    "trim['living_w_spouse_name'].fillna(value = 'Not asked (Living w partner)',inplace = True)"
   ]
  },
  {
   "cell_type": "code",
   "execution_count": 5,
   "metadata": {
    "executionInfo": {
     "elapsed": 87,
     "status": "ok",
     "timestamp": 1627592386391,
     "user": {
      "displayName": "Zach Farahany",
      "photoUrl": "",
      "userId": "17909561336891020108"
     },
     "user_tz": 300
    },
    "id": "8T90A76ObExH"
   },
   "outputs": [],
   "source": [
    "#Define the names of our columns and our pivot table\n",
    "\n",
    "col = np.concatenate([trim.edu_level_name.unique(),trim.alcohol_use_name.unique(),trim.tobacco_user_name.unique(),\n",
    "                trim.ill_drug_user_name.unique(),trim.ipv_emotional_abuse_name.unique(),trim.med_transport_needs_name.unique(),\n",
    "                trim.fin_resource_strain_name.unique(),trim.daily_stress_name.unique(),trim.socialization_freq_name.unique(),\n",
    "                trim.church_attendance_name.unique(),trim.phys_act_days_per_week_name.unique(),trim.food_insecurity_scarce_name.unique(),\n",
    "                trim.sexually_active_name.unique(),trim.living_w_spouse_name.unique()])\n",
    "\n",
    "social_history_df = pd.DataFrame(index=trim.patient_num.unique(), columns=col)\n"
   ]
  },
  {
   "cell_type": "code",
   "execution_count": 6,
   "metadata": {
    "executionInfo": {
     "elapsed": 46294,
     "status": "ok",
     "timestamp": 1627592440918,
     "user": {
      "displayName": "Zach Farahany",
      "photoUrl": "",
      "userId": "17909561336891020108"
     },
     "user_tz": 300
    },
    "id": "0juO4e15ROld"
   },
   "outputs": [],
   "source": [
    "#Create the pivot table with all of our categorical variables one hot encoded by hand\n",
    "for index, row in trim.iterrows():\n",
    "  social_history_df.loc[row['patient_num'],row['edu_level_name']] = 1\n",
    "  social_history_df.loc[row['patient_num'],row['alcohol_use_name']] = 1\n",
    "  social_history_df.loc[row['patient_num'],row['tobacco_user_name']] = 1\n",
    "  social_history_df.loc[row['patient_num'],row['ill_drug_user_name']] = 1\n",
    "  social_history_df.loc[row['patient_num'],row['ipv_emotional_abuse_name']] = 1\n",
    "  social_history_df.loc[row['patient_num'],row['med_transport_needs_name']] = 1\n",
    "  social_history_df.loc[row['patient_num'],row['fin_resource_strain_name']] = 1\n",
    "  social_history_df.loc[row['patient_num'],row['daily_stress_name']] = 1\n",
    "  social_history_df.loc[row['patient_num'],row['socialization_freq_name']] = 1\n",
    "  social_history_df.loc[row['patient_num'],row['church_attendance_name']] = 1\n",
    "  social_history_df.loc[row['patient_num'],row['phys_act_days_per_week_name']] = 1\n",
    "  social_history_df.loc[row['patient_num'],row['food_insecurity_scarce_name']] = 1\n",
    "  social_history_df.loc[row['patient_num'],row['sexually_active_name']] = 1\n",
    "  social_history_df.loc[row['patient_num'],row['living_w_spouse_name']] = 1\n",
    "social_history_df = social_history_df.fillna(0)\n",
    "social_history_df.to_csv('Data/data_set/soc_df.csv')"
   ]
  },
  {
   "cell_type": "code",
   "execution_count": 10,
   "metadata": {
    "executionInfo": {
     "elapsed": 646,
     "status": "ok",
     "timestamp": 1627592503054,
     "user": {
      "displayName": "Zach Farahany",
      "photoUrl": "",
      "userId": "17909561336891020108"
     },
     "user_tz": 300
    },
    "id": "kRgp_s4Uua_m"
   },
   "outputs": [],
   "source": [
    "social_history_df.to_csv('Data/data_set/soc_df.csv')"
   ]
  }
 ],
 "metadata": {
  "accelerator": "TPU",
  "colab": {
   "authorship_tag": "ABX9TyP93KjBLJwJM+WszTwU0HLt",
   "machine_shape": "hm",
   "name": "Social_history_preprocessing.ipynb",
   "provenance": []
  },
  "kernelspec": {
   "display_name": "Python 3",
   "language": "python",
   "name": "python3"
  },
  "language_info": {
   "codemirror_mode": {
    "name": "ipython",
    "version": 3
   },
   "file_extension": ".py",
   "mimetype": "text/x-python",
   "name": "python",
   "nbconvert_exporter": "python",
   "pygments_lexer": "ipython3",
   "version": "3.9.8"
  }
 },
 "nbformat": 4,
 "nbformat_minor": 4
}
