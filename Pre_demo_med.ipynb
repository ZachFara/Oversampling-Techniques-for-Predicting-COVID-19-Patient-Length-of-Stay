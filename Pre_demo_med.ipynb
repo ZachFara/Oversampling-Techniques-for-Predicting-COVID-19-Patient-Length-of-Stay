{
 "cells": [
  {
   "cell_type": "code",
   "execution_count": 1,
   "metadata": {
    "colab": {
     "base_uri": "https://localhost:8080/"
    },
    "id": "jpBvl3_Qo3sB",
    "outputId": "d2fa6509-b82e-49ef-8e8b-6389083c8e87"
   },
   "outputs": [],
   "source": [
    "#Import packages and data\n",
    "import pandas as pd\n",
    "import datetime\n",
    "import numpy as np\n",
    "covid_patient_demographics = pd.read_csv('Data/covid/patient_demographics.csv', low_memory = False)\n",
    "df = pd.read_csv('Data/Opioid_1/patient_demographics.csv', low_memory = False)\n",
    "df1 = pd.read_csv('Data/Opioid_2/patient_demographics.csv', low_memory = False)\n",
    "opioid_patient_demographics = pd.concat([df,df1], ignore_index=True)\n",
    "patient_demo = pd.concat([covid_patient_demographics,opioid_patient_demographics], ignore_index=True)"
   ]
  },
  {
   "cell_type": "code",
   "execution_count": 8,
   "metadata": {
    "id": "ZpbXzpWPr8Lh"
   },
   "outputs": [],
   "source": [
    "#Dealing with all of the categorical variables, these will later bet one hot encoded\n",
    "trim_demo = patient_demo.drop_duplicates()\n",
    "trim_demo = trim_demo[['patient_num','sex_c','birth_date_shifted','marital_status','employment_status','race','ethnicity','language','state_name']]\n",
    "trim_demo = trim_demo.drop_duplicates()\n",
    "trim_demo['sex_c'] = trim_demo['sex_c'] -1 \n",
    "trim_demo['age'] = (pd.to_datetime('2021-7-01') - pd.to_datetime(trim_demo['birth_date_shifted']))/np.timedelta64(1,'Y')\n",
    "trim_demo['marital_status'] = trim_demo['marital_status'].map({'Married':'Married (Marital Status)', 'Single':'Single (Marital Status)', 'Divorced':'Divorced (Marital Status)',\n",
    "                                                               'Widowed':'Widowed (Marital Status)', 'Unknown':'Unknown (Marital Status)','Legally Separated':'Legally Separated (Marital Status)',\n",
    "                                                               'Significant Other':'Significant Other (Marital Status)', 'Patient Refused':'Patient Refused (Marital Status)'},na_action='ignore')\n",
    "trim_demo['marital_status'].fillna(value = 'Patient refused (Marrital Status)', inplace = True)\n",
    "\n",
    "\n",
    "trim_demo['employment_status'] = trim_demo['employment_status'].map({'Full Time':'Full Time (Employment)', 'Not Employed': 'Not Employed (Employment)',\n",
    "                                                                     'Retired':'Retired (Employment)', 'Self Employed':'Self Employed (Employment)','Part Time':'Part Time (Employment)',\n",
    "                                                                     'Student - Full Time':'Student - Full Time (Employment)', 'Disabled':'Disabled (Employment)', 'Unknown': 'Unknown (Employment)',\n",
    "                                                                     'Student - Part Time': 'Student - Part Time (Employment)', 'Patient Refused':'Patient Refused (Employment)',\n",
    "                                                                     'On Active Military Duty':'On Active Military Duty (Employment)'},na_action='ignore')\n",
    "trim_demo['employment_status'].fillna(value = 'Unknown (Employment)', inplace = True)\n",
    "\n",
    "trim_demo['race'].fillna(value = 'Unknown (Race)', inplace = True)\n",
    "trim_demo['race'].replace({\"Unknown\": 'Unknown (Race)'}, inplace=True)\n",
    "\n",
    "trim_demo['ethnicity'].fillna(value = 'Unknown (Ethnicity)', inplace = True)\n",
    "trim_demo['ethnicity'].replace({\"Unknown\": 'Unknown (Ethnicity)'}, inplace=True)\n",
    "\n",
    "trim_demo['language'].fillna(value = 'Need to Obtain (Language)', inplace = True)\n",
    "trim_demo['language'].replace({\"Need to Obtain\": 'Need to Obtain (Language)'}, inplace=True)\n",
    "trim_demo['state_name'].fillna(value = 'Unknown state', inplace = True)"
   ]
  },
  {
   "cell_type": "code",
   "execution_count": 13,
   "metadata": {
    "id": "za4KuboCfRGa"
   },
   "outputs": [],
   "source": [
    "#Define the columns of our pivot table and then generate the pivote table\n",
    "col = np.concatenate([['sex_c'],trim_demo.marital_status.unique(),trim_demo.employment_status.unique(),\n",
    "                      trim_demo.race.unique(),trim_demo.ethnicity.unique(),trim_demo.language.unique(),trim_demo.state_name.unique(),['age']])\n",
    "demographic_df = pd.DataFrame(index=trim_demo.patient_num.unique(), columns=col)"
   ]
  },
  {
   "cell_type": "code",
   "execution_count": 23,
   "metadata": {
    "colab": {
     "base_uri": "https://localhost:8080/",
     "height": 381
    },
    "id": "n4wuvMR-xAoS",
    "outputId": "f6414c35-6059-4775-dcf9-8756a4bf69d2"
   },
   "outputs": [],
   "source": [
    "#Fill the pivot table then save it as a csv\n",
    "for index, row in trim_demo.iterrows():\n",
    "  demographic_df.loc[row['patient_num'],'sex_c'] = row['sex_c']\n",
    "  demographic_df.loc[row['patient_num'],row['marital_status']] = 1\n",
    "  demographic_df.loc[row['patient_num'],row['employment_status']] = 1\n",
    "  demographic_df.loc[row['patient_num'],row['race']] = 1\n",
    "  demographic_df.loc[row['patient_num'],row['ethnicity']] = 1\n",
    "  demographic_df.loc[row['patient_num'],row['language']] = 1\n",
    "  demographic_df.loc[row['patient_num'],row['state_name']] = 1\n",
    "  demographic_df.loc[row['patient_num'],'age'] = row['age']\n",
    "demographic_df.fillna(0, inplace = True)\n",
    "demographic_df.to_csv('Data/data_set/demo_df.csv')"
   ]
  },
  {
   "cell_type": "code",
   "execution_count": null,
   "metadata": {},
   "outputs": [],
   "source": [
    "#Delete our old data to conserve space then load new data\n",
    "del patient_demo  \n",
    "c_med_orders = pd.read_csv('Data/covid/medication_orders.csv', low_memory = False)\n",
    "df = pd.read_csv('Data/Opioid_1/medication_orders.csv', usecols=['patient_num','pharm_class'], low_memory = False)\n",
    "df1 = pd.read_csv('Data/Opioid_2/medication_orders.csv', usecols=['patient_num','pharm_class'], low_memory = False)\n",
    "o_med_orders = pd.concat([df,df1], ignore_index=True)\n",
    "med_orders = pd.concat([c_med_orders,o_med_orders], ignore_index=True)\n",
    "med_admin = pd.read_csv('Data/covid/medications_administered.csv', usecols=['patient_num','pharm_class'],low_memory = False)"
   ]
  },
  {
   "cell_type": "code",
   "execution_count": null,
   "metadata": {
    "id": "qT1ZiHgX8jqx"
   },
   "outputs": [],
   "source": [
    "#Generate our columns and index for the pivot table\n",
    "col2 = np.concatenate([med_orders.pharm_class.unique(),med_admin.pharm_class.unique()])\n",
    "col2 = np.unique(col2.astype(str))\n",
    "col2 = col2[~pd.isnull(col2)]\n",
    "new_ind = np.unique(np.concatenate([med_orders.patient_num.unique(),med_admin.patient_num.unique()]))\n",
    "med_ord_df = pd.DataFrame(index= med_orders.patient_num.unique(),columns = col2)"
   ]
  },
  {
   "cell_type": "code",
   "execution_count": null,
   "metadata": {
    "id": "8uYVZXrp7_-L"
   },
   "outputs": [],
   "source": [
    "#Fill the pivot table and save it\n",
    "for index, row in med_orders.iterrows():\n",
    "    med_ord_df.loc[row['patient_num'],row['pharm_class']] = 1\n",
    "for index, row in med_admin.iterrows():\n",
    "    med_ord_df.loc[row['patient_num'],row['pharm_class']] = 1\n",
    "med_ord_df = med_ord_df.fillna(0)\n",
    "med_ord_df.to_csv('Data/data_set/med_df.csv')"
   ]
  }
 ],
 "metadata": {
  "colab": {
   "collapsed_sections": [],
   "machine_shape": "hm",
   "name": "Demographic and Medication preprocessing.ipynb",
   "provenance": []
  },
  "interpreter": {
   "hash": "56afda17790410e44491dcbdc7e97dc26277854b78268c60bab069a20fdd9755"
  },
  "kernelspec": {
   "display_name": "Python 3.8.8 ('covid_los_env')",
   "language": "python",
   "name": "python3"
  },
  "language_info": {
   "codemirror_mode": {
    "name": "ipython",
    "version": 3
   },
   "file_extension": ".py",
   "mimetype": "text/x-python",
   "name": "python",
   "nbconvert_exporter": "python",
   "pygments_lexer": "ipython3",
   "version": "3.8.8"
  }
 },
 "nbformat": 4,
 "nbformat_minor": 4
}
