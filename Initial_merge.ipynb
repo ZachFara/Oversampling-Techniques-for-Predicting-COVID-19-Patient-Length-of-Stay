{
 "cells": [
  {
   "cell_type": "code",
   "execution_count": 2,
   "id": "260eab58-b33a-4a1c-8cc4-4855e5763ac5",
   "metadata": {},
   "outputs": [],
   "source": [
    "import pandas as pd\n",
    "\n",
    "#Import Covid dataset\n",
    "c_diagnosis = pd.read_csv('Data/covid/diagnosis.csv', low_memory = False)\n",
    "c_patient_demographics = pd.read_csv('Data/covid/patient_demographics.csv', low_memory = False)\n",
    "c_med_orders = pd.read_csv('Data/covid/medication_orders.csv', low_memory = False)\n",
    "c_problem_list = pd.read_csv('Data/covid/problem_list.csv', low_memory = False)\n",
    "c_procedures = pd.read_csv('Data/covid/procedures.csv', low_memory = False, error_bad_lines=False)\n",
    "c_social_history = pd.read_csv('Data/covid/social_history_lifestyle.csv', low_memory = False)\n",
    "c_encounters = pd.read_csv('Data/covid/encounters.csv', low_memory = False)\n",
    "\n",
    "\n",
    "#Import Opioid dataset\n",
    "df = pd.read_csv('Data/Opioid_1/diagnosis.csv', low_memory = False)\n",
    "df1 = pd.read_csv('Data/Opioid_2/diagnosis.csv', low_memory = False)\n",
    "o_diagnosis = pd.concat([df,df1], ignore_index=True)\n",
    "df = pd.read_csv('Data/Opioid_1/medication_orders.csv', low_memory = False)\n",
    "df1 = pd.read_csv('Data/Opioid_2/medication_orders.csv', low_memory = False)\n",
    "o_med_orders = pd.concat([df,df1], ignore_index=True)\n",
    "df = pd.read_csv('Data/Opioid_1/patient_demographics.csv', low_memory = False)\n",
    "df1 = pd.read_csv('Data/Opioid_2/patient_demographics.csv', low_memory = False)\n",
    "o_patient_demographics = pd.concat([df,df1], ignore_index=True)\n",
    "df = pd.read_csv('Data/Opioid_1/problem_list.csv', low_memory = False)\n",
    "df1 = pd.read_csv('Data/Opioid_2/problem_list.csv', low_memory = False)\n",
    "o_problem_list = pd.concat([df,df1], ignore_index=True)\n",
    "df = pd.read_csv('Data/Opioid_1/procedures.csv', low_memory = False)\n",
    "df1 = pd.read_csv('Data/Opioid_2/procedures.csv', low_memory = False)\n",
    "o_procedures = pd.concat([df,df1], ignore_index=True)\n",
    "df = pd.read_csv('Data/Opioid_1/social_history_lifestyle.csv', low_memory = False)\n",
    "df1 = pd.read_csv('Data/Opioid_2/social_history_lifestyle.csv', low_memory = False)\n",
    "o_social_history = pd.concat([df,df1], ignore_index=True)\n",
    "df = pd.read_csv('Data/Opioid_1/encounters.csv', low_memory = False)\n",
    "df1 = pd.read_csv('Data/Opioid_2/encounters.csv', low_memory = False)\n",
    "o_encounters = pd.concat([df,df1], ignore_index=True)\n",
    "\n",
    "#Concat opioid data onto covid data\n",
    "diagnosis = pd.concat([c_diagnosis,o_diagnosis], ignore_index=True)\n",
    "medication_orders = pd.concat([c_med_orders,o_med_orders], ignore_index=True)\n",
    "patient_demographics = pd.concat([c_patient_demographics,o_patient_demographics], ignore_index=True)\n",
    "problem_list = pd.concat([c_problem_list,o_problem_list], ignore_index=True)\n",
    "procedures = pd.concat([c_procedures,o_procedures], ignore_index=True)\n",
    "social_history = pd.concat([c_social_history,o_social_history], ignore_index=True)\n",
    "encounters = pd.concat([c_encounters,o_encounters], ignore_index=True)\n",
    "\n",
    "#Write to csv\n",
    "diagnosis.to_csv('Data/Merged data/diagnosis.csv')\n",
    "medication_orders.to_csv('Data/Merged data/medication_orders.csv')\n",
    "patient_demographics.to_csv('Data/Merged data/patient_demographics.csv')\n",
    "problem_list.to_csv('Data/Merged data/problem_list.csv')\n",
    "procedures.to_csv('Data/Merged data/procedures.csv')\n",
    "social_history.to_csv('Data/Merged data/social_history.csv')\n",
    "encounters.to_csv('Data/Merged data/encounters.csv')"
   ]
  }
 ],
 "metadata": {
  "kernelspec": {
   "display_name": "Python 3.9.13 ('general_env')",
   "language": "python",
   "name": "python3"
  },
  "language_info": {
   "codemirror_mode": {
    "name": "ipython",
    "version": 3
   },
   "file_extension": ".py",
   "mimetype": "text/x-python",
   "name": "python",
   "nbconvert_exporter": "python",
   "pygments_lexer": "ipython3",
   "version": "3.9.13"
  },
  "vscode": {
   "interpreter": {
    "hash": "80a9be322f76374deb443c181cb3159de1b76c7862ebb4afb71cdd84c073bafe"
   }
  }
 },
 "nbformat": 4,
 "nbformat_minor": 5
}
