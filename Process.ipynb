{
  "cells": [
    {
      "cell_type": "code",
      "execution_count": 12,
      "metadata": {
        "colab": {
          "base_uri": "https://localhost:8080/"
        },
        "id": "vkzfkOfIFfXb",
        "outputId": "a84cf165-96fa-4f34-b367-f815d052be15"
      },
      "outputs": [
        {
          "name": "stdout",
          "output_type": "stream",
          "text": [
            "Note: not using Google CoLab\n"
          ]
        }
      ],
      "source": [
        "try:\n",
        "    from google.colab import drive\n",
        "    drive.mount('/content/drive')\n",
        "    COLAB = True\n",
        "    print(\"Note: using Google CoLab\")\n",
        "    %tensorflow_version 2.x\n",
        "except:\n",
        "    print(\"Note: not using Google CoLab\")\n",
        "    COLAB = False"
      ]
    },
    {
      "cell_type": "code",
      "execution_count": 16,
      "metadata": {
        "colab": {
          "background_save": true
        },
        "id": "bcfCBjXCFpxc"
      },
      "outputs": [
        {
          "name": "stdout",
          "output_type": "stream",
          "text": [
            "patient_num already index\n",
            "patient_num already index\n",
            "patient_num already index\n"
          ]
        },
        {
          "name": "stderr",
          "output_type": "stream",
          "text": [
            "C:\\Users\\zfarahany\\AppData\\Local\\Temp\\ipykernel_14784\\1095871475.py:85: SettingWithCopyWarning: \n",
            "A value is trying to be set on a copy of a slice from a DataFrame\n",
            "\n",
            "See the caveats in the documentation: https://pandas.pydata.org/pandas-docs/stable/user_guide/indexing.html#returning-a-view-versus-a-copy\n",
            "  train_set_full.drop('LOS_cat',axis = 1,inplace = True)\n",
            "C:\\Users\\zfarahany\\AppData\\Local\\Temp\\ipykernel_14784\\1095871475.py:86: SettingWithCopyWarning: \n",
            "A value is trying to be set on a copy of a slice from a DataFrame\n",
            "\n",
            "See the caveats in the documentation: https://pandas.pydata.org/pandas-docs/stable/user_guide/indexing.html#returning-a-view-versus-a-copy\n",
            "  test_set.drop('LOS_cat',axis = 1,inplace = True)\n",
            "C:\\Users\\zfarahany\\AppData\\Local\\Temp\\ipykernel_14784\\1095871475.py:87: SettingWithCopyWarning: \n",
            "A value is trying to be set on a copy of a slice from a DataFrame\n",
            "\n",
            "See the caveats in the documentation: https://pandas.pydata.org/pandas-docs/stable/user_guide/indexing.html#returning-a-view-versus-a-copy\n",
            "  train_set.drop('LOS_cat',axis = 1,inplace = True)\n",
            "C:\\Users\\zfarahany\\AppData\\Local\\Temp\\ipykernel_14784\\1095871475.py:88: SettingWithCopyWarning: \n",
            "A value is trying to be set on a copy of a slice from a DataFrame\n",
            "\n",
            "See the caveats in the documentation: https://pandas.pydata.org/pandas-docs/stable/user_guide/indexing.html#returning-a-view-versus-a-copy\n",
            "  val_set.drop('LOS_cat',axis = 1,inplace = True)\n"
          ]
        }
      ],
      "source": [
        "#Importing initial libraries\n",
        "import numpy as np\n",
        "import random\n",
        "import pandas as pd\n",
        "import math\n",
        "import matplotlib.pyplot as plt\n",
        "import seaborn as sns\n",
        "import tensorflow as tf\n",
        "if COLAB:\n",
        "    df = pd.read_csv('/content/drive/MyDrive/Colab Notebooks/Data/df.csv', low_memory=False)\n",
        "else:\n",
        "    df = pd.read_csv(\"Data/final_dataset/df.csv\", low_memory=False)\n",
        "\n",
        "df.rename(columns={'Unnamed: 0':'patient_num'},inplace= True)\n",
        "df.set_index('patient_num',inplace= True)\n",
        "#Add the Binary Severity Metric\n",
        "df['Severity'] = (df['LOS']>= 7).astype(int)\n",
        "\n",
        "#Make sure all column names are valid\n",
        "import re\n",
        "df = df.rename(columns = lambda x:re.sub('[^A-Za-z0-9_]+', '', x))\n",
        "\n",
        "#Make sure we dont have any duplicate column names\n",
        "while(len(set(df.columns)) != len(df.columns)):\n",
        "  cols = pd.Series(df.columns)\n",
        "  for dup in df.columns[df.columns.duplicated(keep=False)]: \n",
        "      cols[df.columns.get_loc(dup)] = ([dup + 'A' + str(d_idx) \n",
        "                                       if d_idx != 0 \n",
        "                                       else dup \n",
        "                                       for d_idx in range(df.columns.get_loc(dup).sum())]\n",
        "                                      )\n",
        "  df.columns = cols\n",
        "  try:\n",
        "    df.set_index('patient_num',inplace= True)\n",
        "  except:\n",
        "    print('patient_num already index')\n",
        "\n",
        "#Remove 0 variance features because they just take up space\n",
        "from sklearn.feature_selection import VarianceThreshold\n",
        "selector_var_thresh = VarianceThreshold(threshold = 0)\n",
        "selector_var_thresh.fit(df)\n",
        "df = df[df.columns[selector_var_thresh.get_support(indices=True)]]\n",
        "\n",
        "#Categorical variable identification\n",
        "cat = []\n",
        "for col in df.columns:\n",
        "    if np.array_equal(df[col].unique(),[0., 1.]) or np.array_equal(df[col].unique(),[1., 0.]):\n",
        "        cat.append(col)\n",
        "df_cat = df[cat]\n",
        "df_num = df.drop(cat, axis = 1)\n",
        "\n",
        "#################################################################################\n",
        "#Choose the scaler\n",
        "from sklearn.preprocessing import MinMaxScaler\n",
        "scaler = MinMaxScaler()\n",
        "df_num = pd.DataFrame(data = scaler.fit_transform(df_num), index = df_num.index, columns = df_num.columns)\n",
        "df = pd.merge(df_num,df_cat, left_index= True,right_index= True, how = 'inner')\n",
        "\n",
        "#Stratified train test split\n",
        "from sklearn.model_selection import StratifiedShuffleSplit\n",
        "#Create bins\n",
        "import math\n",
        "strat = list(df.LOS)\n",
        "strat.sort()\n",
        "bin = []\n",
        "for i in range(1,5):\n",
        "    bin.append(strat[math.ceil(i/5*len(strat))])\n",
        "\n",
        "df['LOS_cat'] = pd.cut(\n",
        "    df['LOS'],\n",
        "    bins = [-np.inf,bin[0],bin[1],bin[2],bin[3],np.inf],\n",
        "    labels = [1,2,3,4,5])\n",
        "\n",
        "from sklearn.model_selection import StratifiedShuffleSplit\n",
        "split = StratifiedShuffleSplit(n_splits=1, test_size=0.2, random_state=42)\n",
        "for train_index, test_index in split.split(df, df['LOS_cat']):\n",
        "    train_set_full = df.iloc[train_index]\n",
        "    test_set = df.iloc[test_index]\n",
        "\n",
        "val_split = StratifiedShuffleSplit(n_splits=1, test_size=0.2, random_state=42)\n",
        "for train_index, test_index in val_split.split(train_set_full, train_set_full['LOS_cat']):\n",
        "    train_set = df.iloc[train_index]\n",
        "    val_set = df.iloc[test_index]\n",
        "\n",
        "train_set_full.drop('LOS_cat',axis = 1,inplace = True)\n",
        "test_set.drop('LOS_cat',axis = 1,inplace = True)\n",
        "train_set.drop('LOS_cat',axis = 1,inplace = True)\n",
        "val_set.drop('LOS_cat',axis = 1,inplace = True)\n",
        "\n",
        "#Get validation, training and test sets\n",
        "x_train = train_set.drop(['LOS','Severity'],axis = 1)\n",
        "y_train = train_set['Severity']\n",
        "x_val = val_set.drop(['LOS','Severity'],axis = 1)\n",
        "y_val = val_set['Severity']\n",
        "x_test = test_set.drop(['LOS','Severity'],axis = 1)\n",
        "y_test = test_set['Severity']\n",
        "\n",
        "if COLAB:\n",
        "    x_train.to_csv('/content/drive/MyDrive/Colab Notebooks/Data/x_train.csv' )\n",
        "    y_train.to_csv('/content/drive/MyDrive/Colab Notebooks/Data/y_train.csv' )\n",
        "    x_val.to_csv('/content/drive/MyDrive/Colab Notebooks/Data/x_val.csv' )\n",
        "    y_val.to_csv('/content/drive/MyDrive/Colab Notebooks/Data/y_val.csv' )\n",
        "    x_test.to_csv('/content/drive/MyDrive/Colab Notebooks/Data/x_test.csv' )\n",
        "    y_test.to_csv('/content/drive/MyDrive/Colab Notebooks/Data/y_test.csv' )\n",
        "else:\n",
        "    x_train.to_csv('Data/final_dataset/x_train.csv')\n",
        "    y_train.to_csv('Data/final_dataset/y_train.csv')\n",
        "    x_val.to_csv('Data/final_dataset/x_val.csv')\n",
        "    y_val.to_csv('Data/final_dataset/y_val.csv')\n",
        "    x_test.to_csv('Data/final_dataset/x_test.csv')\n",
        "    y_test.to_csv('Data/final_dataset/y_test.csv')"
      ]
    }
  ],
  "metadata": {
    "accelerator": "GPU",
    "colab": {
      "machine_shape": "hm",
      "name": "Process.ipynb",
      "provenance": []
    },
    "kernelspec": {
      "display_name": "Python 3.9.13 ('psu_env')",
      "language": "python",
      "name": "python3"
    },
    "language_info": {
      "codemirror_mode": {
        "name": "ipython",
        "version": 3
      },
      "file_extension": ".py",
      "mimetype": "text/x-python",
      "name": "python",
      "nbconvert_exporter": "python",
      "pygments_lexer": "ipython3",
      "version": "3.9.13"
    },
    "vscode": {
      "interpreter": {
        "hash": "1028fe41cec8654ebc71273de4774acc5bc526b98fa48d7193f02b81eae34220"
      }
    }
  },
  "nbformat": 4,
  "nbformat_minor": 0
}
