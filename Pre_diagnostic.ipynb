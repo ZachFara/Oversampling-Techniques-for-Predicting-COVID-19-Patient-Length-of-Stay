{
 "cells": [
  {
   "cell_type": "code",
   "execution_count": 1,
   "id": "cbb9c023-c026-484d-a1a6-7073d6b56467",
   "metadata": {},
   "outputs": [],
   "source": [
    "#Import data\n",
    "import pandas as pd \n",
    "import numpy as np\n",
    "diagnostic = pd.read_csv('Data/covid/diagnostic_results.csv',usecols=['patient_num','res_quant_or_qual',\n",
    "'component_name','result_num'], low_memory = False)\n",
    "diagnostic.dropna(axis = 0, how = 'any', subset = ['res_quant_or_qual'], inplace = True)"
   ]
  },
  {
   "cell_type": "code",
   "execution_count": 2,
   "id": "c318458d",
   "metadata": {},
   "outputs": [],
   "source": [
    "#Create pivot table of the quantitative data\n",
    "quan = diagnostic[diagnostic.res_quant_or_qual == 'QUANT']\n",
    "df = pd.DataFrame(index=quan.patient_num.unique(), columns=quan.component_name.unique())\n",
    "for index, row in quan.iterrows():\n",
    "    df.loc[row['patient_num'],row['component_name']] = row['result_num']"
   ]
  },
  {
   "cell_type": "code",
   "execution_count": 3,
   "id": "d84b7ff9",
   "metadata": {},
   "outputs": [],
   "source": [
    "#Create pivot table of the qualitative data if it is NA that means that it is not present\n",
    "#So we fillna with 0\n",
    "qual = diagnostic[diagnostic.res_quant_or_qual == 'QUAL']\n",
    "df1 = pd.DataFrame(index=qual.patient_num.unique(), columns=qual.component_name.unique())\n",
    "for index, row in qual.iterrows():\n",
    "    df1.loc[row['patient_num'],row['component_name']] = 1\n",
    "df1.fillna(0,inplace = True)"
   ]
  },
  {
   "cell_type": "code",
   "execution_count": null,
   "id": "d1f54400-73d4-4de5-ab69-d53c75292e25",
   "metadata": {},
   "outputs": [],
   "source": [
    "#Add a tag to make sure quantitative data fields have some distinction from qualitative\n",
    "for i in df.columns:\n",
    "    df.rename(columns = {i:i + '(Quantitative)'},inplace = True)"
   ]
  },
  {
   "cell_type": "code",
   "execution_count": null,
   "id": "c403147c-eff8-4fe2-9540-f88b2c4453f4",
   "metadata": {},
   "outputs": [],
   "source": [
    "#Write to csv\n",
    "df.to_csv('Data/data_set/diag_quant_df.csv')\n",
    "df1.to_csv('Data/data_set/diag_qual_df.csv')"
   ]
  }
 ],
 "metadata": {
  "kernelspec": {
   "display_name": "Python 3",
   "language": "python",
   "name": "python3"
  },
  "language_info": {
   "codemirror_mode": {
    "name": "ipython",
    "version": 3
   },
   "file_extension": ".py",
   "mimetype": "text/x-python",
   "name": "python",
   "nbconvert_exporter": "python",
   "pygments_lexer": "ipython3",
   "version": "3.9.8"
  }
 },
 "nbformat": 4,
 "nbformat_minor": 5
}
