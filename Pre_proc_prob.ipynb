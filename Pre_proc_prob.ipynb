{
 "cells": [
  {
   "cell_type": "code",
   "execution_count": 1,
   "metadata": {
    "colab": {
     "base_uri": "https://localhost:8080/"
    },
    "executionInfo": {
     "elapsed": 45761,
     "status": "ok",
     "timestamp": 1627592841256,
     "user": {
      "displayName": "Zach Farahany",
      "photoUrl": "",
      "userId": "17909561336891020108"
     },
     "user_tz": 300
    },
    "id": "7O6OB7I5XIAM",
    "outputId": "c1ff4fe8-e1a6-4cff-bde4-88d3b8353a84"
   },
   "outputs": [
    {
     "name": "stderr",
     "output_type": "stream",
     "text": [
      "C:\\Users\\zfarahany\\AppData\\Local\\Programs\\Python\\Python39\\lib\\site-packages\\IPython\\core\\interactiveshell.py:3444: FutureWarning: The error_bad_lines argument has been deprecated and will be removed in a future version.\n",
      "\n",
      "\n",
      "  exec(code_obj, self.user_global_ns, self.user_ns)\n"
     ]
    }
   ],
   "source": [
    "#Import data and packages\n",
    "import pandas as pd\n",
    "covid_problem_list = pd.read_csv('Data/covid/problem_list.csv', low_memory = False)\n",
    "covid_procedures = pd.read_csv('Data/covid/procedures.csv', low_memory = False, error_bad_lines=False)\n",
    "df = pd.read_csv('Data/Opioid_1/problem_list.csv', low_memory = False)\n",
    "df1 = pd.read_csv('Data/Opioid_2/problem_list.csv', low_memory = False)\n",
    "opioid_problem_list = pd.concat([df,df1], ignore_index=True)\n",
    "df = pd.read_csv('Data/Opioid_1/procedures.csv', low_memory = False)\n",
    "df1 = pd.read_csv('Data/Opioid_2/procedures.csv', low_memory = False)\n",
    "opioid_procedures = pd.concat([df,df1], ignore_index=True)\n",
    "problem_list = pd.concat([covid_problem_list,opioid_problem_list], ignore_index=True)\n",
    "procedures = pd.concat([covid_procedures,opioid_procedures], ignore_index=True)"
   ]
  },
  {
   "cell_type": "code",
   "execution_count": 2,
   "metadata": {
    "executionInfo": {
     "elapsed": 5155795,
     "status": "ok",
     "timestamp": 1627598010416,
     "user": {
      "displayName": "Zach Farahany",
      "photoUrl": "",
      "userId": "17909561336891020108"
     },
     "user_tz": 300
    },
    "id": "3drs18hbY83s"
   },
   "outputs": [],
   "source": [
    "#Create our pivot table\n",
    "trim_proc = procedures[['patient_num','procedure_name']]\n",
    "proc_df = pd.DataFrame(index=trim_proc.patient_num.unique(), columns=trim_proc.procedure_name.unique())\n",
    "for index, row in trim_proc.iterrows():\n",
    "    proc_df.loc[row['patient_num'],row['procedure_name']] = 1\n",
    "proc_df = proc_df.fillna(0)\n",
    "proc_df.to_csv('Data/data_set/proc_df.csv')"
   ]
  },
  {
   "cell_type": "code",
   "execution_count": 4,
   "metadata": {
    "colab": {
     "base_uri": "https://localhost:8080/"
    },
    "executionInfo": {
     "elapsed": 48477,
     "status": "ok",
     "timestamp": 1627412576563,
     "user": {
      "displayName": "Zach Farahany",
      "photoUrl": "",
      "userId": "17909561336891020108"
     },
     "user_tz": 300
    },
    "id": "pzaV1xNcoYPY",
    "outputId": "ea260ccf-4496-4f33-afe7-6990301eb743"
   },
   "outputs": [
    {
     "name": "stderr",
     "output_type": "stream",
     "text": [
      "C:\\Users\\zfarahany\\AppData\\Local\\Programs\\Python\\Python39\\lib\\site-packages\\pandas\\core\\generic.py:5516: SettingWithCopyWarning: \n",
      "A value is trying to be set on a copy of a slice from a DataFrame.\n",
      "Try using .loc[row_indexer,col_indexer] = value instead\n",
      "\n",
      "See the caveats in the documentation: https://pandas.pydata.org/pandas-docs/stable/user_guide/indexing.html#returning-a-view-versus-a-copy\n",
      "  self[name] = value\n",
      "C:\\Users\\ZFARAH~1\\AppData\\Local\\Temp/ipykernel_14300/3861981992.py:4: SettingWithCopyWarning: \n",
      "A value is trying to be set on a copy of a slice from a DataFrame.\n",
      "Try using .loc[row_indexer,col_indexer] = value instead\n",
      "\n",
      "See the caveats in the documentation: https://pandas.pydata.org/pandas-docs/stable/user_guide/indexing.html#returning-a-view-versus-a-copy\n",
      "  trim_prob['dx_code'] = trim_prob['dx_code'] + '(Problem list)'\n"
     ]
    }
   ],
   "source": [
    "#Create pivot table and add the problem list identifier\n",
    "trim_prob = problem_list[['patient_num','dx_code']]\n",
    "trim_prob.dx_code = trim_prob.dx_code.apply(str.split, sep=\".\").apply(list.__getitem__, args=(0,))\n",
    "trim_prob['dx_code'] = trim_prob['dx_code'] + '(Problem list)'\n",
    "prob_df = pd.DataFrame(index=trim_prob.patient_num.unique(), columns=trim_prob.dx_code.unique())\n",
    "for index, row in trim_prob.iterrows():\n",
    "    prob_df.loc[row['patient_num'],row['dx_code']] = 1\n",
    "prob_df = prob_df.fillna(0)\n",
    "prob_df.to_csv('Data/data_set/prob_df.csv')"
   ]
  }
 ],
 "metadata": {
  "accelerator": "TPU",
  "colab": {
   "authorship_tag": "ABX9TyMdUjOvYzNxKLQ71UDwYCv0",
   "machine_shape": "hm",
   "name": "Procedures and Problem list preprocessing.ipynb",
   "provenance": []
  },
  "kernelspec": {
   "display_name": "Python 3",
   "language": "python",
   "name": "python3"
  },
  "language_info": {
   "codemirror_mode": {
    "name": "ipython",
    "version": 3
   },
   "file_extension": ".py",
   "mimetype": "text/x-python",
   "name": "python",
   "nbconvert_exporter": "python",
   "pygments_lexer": "ipython3",
   "version": "3.9.8"
  }
 },
 "nbformat": 4,
 "nbformat_minor": 4
}
