{
 "cells": [
  {
   "cell_type": "code",
   "execution_count": 1,
   "metadata": {
    "colab": {
     "base_uri": "https://localhost:8080/"
    },
    "executionInfo": {
     "elapsed": 90822,
     "status": "ok",
     "timestamp": 1628044136622,
     "user": {
      "displayName": "Zach Farahany",
      "photoUrl": "",
      "userId": "17909561336891020108"
     },
     "user_tz": 300
    },
    "id": "-OxN6CRRJEIb",
    "outputId": "54074c9e-b920-4ff9-adf7-a75d60bc3d5b"
   },
   "outputs": [],
   "source": [
    "#Import packages\n",
    "import pandas as pd\n",
    "import datetime as dt\n",
    "import numpy as np"
   ]
  },
  {
   "cell_type": "code",
   "execution_count": 2,
   "metadata": {},
   "outputs": [],
   "source": [
    "#Import data\n",
    "covid_diagnosis = pd.read_csv('Data/covid/diagnosis.csv',usecols =['patient_num','encounter_num',\n",
    "                      'dx_date_shifted','dx_code'] , low_memory = False)\n",
    "covid_encounters = pd.read_csv('Data/covid/encounters.csv',usecols = ['patient_num','encounter_num','admit_date_shifted',\n",
    "                      'discharge_date_shifted','discharge_status_c', 'department_name'], low_memory = False)\n",
    "df = pd.read_csv('Data/Opioid_1/diagnosis.csv',usecols =['patient_num','encounter_num',\n",
    "                      'dx_date_shifted','dx_code'], low_memory = False)\n",
    "df1 = pd.read_csv('Data/Opioid_2/diagnosis.csv',usecols =['patient_num','encounter_num',\n",
    "                      'dx_date_shifted','dx_code'], low_memory = False)\n",
    "opioid_diagnosis = pd.concat([df,df1], ignore_index=True)\n",
    "df = pd.read_csv('Data/Opioid_1/encounters.csv',usecols = ['patient_num','encounter_num','admit_date_shifted',\n",
    "                      'discharge_date_shifted','discharge_status_c', 'department_name'], low_memory = False)\n",
    "df1 = pd.read_csv('Data/Opioid_2/encounters.csv',usecols = ['patient_num','encounter_num','admit_date_shifted',\n",
    "                      'discharge_date_shifted','discharge_status_c', 'department_name'], low_memory = False)\n",
    "opioid_encounters = pd.concat([df,df1], ignore_index=True)"
   ]
  },
  {
   "cell_type": "code",
   "execution_count": 3,
   "metadata": {},
   "outputs": [],
   "source": [
    "#This function accepts diagnosis and encounters and then calculates the patients LOS and it also\n",
    "#Specifys their diagnostic codes\n",
    "def calc_los_dx_code(diagnosis,encounters):\n",
    "    merge = diagnosis.merge(encounters,on=['patient_num','encounter_num'], how='left')\n",
    "    merge.dropna(subset = ['admit_date_shifted','discharge_date_shifted','dx_date_shifted'],inplace = True)\n",
    "    merge = merge.drop_duplicates(subset = 'patient_num', keep='first')\n",
    "    merge.admit_date_shifted = pd.to_datetime(merge.admit_date_shifted)\n",
    "    merge.discharge_date_shifted = pd.to_datetime(merge.discharge_date_shifted)\n",
    "    merge.dx_date_shifted = pd.to_datetime(merge.dx_date_shifted)\n",
    "    merge['admit_date_shifted'] = pd.to_datetime(merge['admit_date_shifted'], format='%Y-%m-%d')\n",
    "    merge['discharge_date_shifted'] = pd.to_datetime(merge['discharge_date_shifted'], format='%Y-%m-%d')\n",
    "    merge['admit_date_shifted'] = merge['admit_date_shifted'].dt.date\n",
    "    merge['discharge_date_shifted'] = merge['discharge_date_shifted'].dt.date\n",
    "    merge['length_of_stay_days'] = (merge['discharge_date_shifted'] - merge['admit_date_shifted']).dt.days\n",
    "    merge.drop(['discharge_status_c', 'department_name'], axis=1, inplace=True)\n",
    "    merge.dx_code = merge.dx_code.apply(str.split, sep=\".\").apply(list.__getitem__, args=(0,))\n",
    "    col = np.append(arr = merge.dx_code.unique(), values ='LOS')\n",
    "    return merge, col"
   ]
  },
  {
   "cell_type": "code",
   "execution_count": 4,
   "metadata": {},
   "outputs": [],
   "source": [
    "#Call our function and then concatenate both tables to run through the pivot table function\n",
    "#This will make sure we retain maximum information about the patients\n",
    "#The col3 is the columns we will use for the pivot function\n",
    "covid_data,col1 = calc_los_dx_code(covid_diagnosis,covid_encounters)\n",
    "opioid_data,col2 = calc_los_dx_code(opioid_diagnosis,opioid_encounters)\n",
    "total_data = pd.concat([covid_data,opioid_data],ignore_index = True)\n",
    "col3 = np.unique(np.append(col1,col2))\n",
    "col3 = np.append(col3,'admit_day_of_year')\n",
    "col3 = np.append(col3,'admit_time_since_1970')\n",
    "col3 = np.unique(col3)"
   ]
  },
  {
   "cell_type": "code",
   "execution_count": 5,
   "metadata": {},
   "outputs": [],
   "source": [
    "#This function creates a pivot table from the entry style data and the columns you wish to include\n",
    "def create_pivot_table(trim, col):\n",
    "    df = pd.DataFrame(index=trim.patient_num.unique(), columns=col)\n",
    "    for index, row in trim.iterrows():\n",
    "        df.loc[row['patient_num'],row['dx_code']] = 1\n",
    "        df.loc[row['patient_num'],'LOS'] = row['length_of_stay_days']\n",
    "        df.loc[row['patient_num'],'admit_day_of_year'] = int(row['admit_date_shifted'].strftime('%j'))\n",
    "        df.loc[row['patient_num'],'admit_time_since_1970'] = (row['admit_date_shifted'] - dt.date(1970,1,1)).days\n",
    "    df = df.fillna(0)\n",
    "    return df"
   ]
  },
  {
   "cell_type": "code",
   "execution_count": 6,
   "metadata": {},
   "outputs": [],
   "source": [
    "#Create our pivot table, we then select only the covid patients add their true LOS and remove any\n",
    "#features which are filled with zeros\n",
    "total_table = create_pivot_table(total_data,col3)\n",
    "table = total_table.loc[covid_data.patient_num.unique()]\n",
    "for index, row in covid_data.iterrows():\n",
    "    table.loc[row['patient_num'],'LOS'] = row['length_of_stay_days']\n",
    "criteria = table.sum() >0\n",
    "table = table[criteria.index[criteria]]\n",
    "table.to_csv('Data/data_set/diagnosis.csv')"
   ]
  }
 ],
 "metadata": {
  "colab": {
   "authorship_tag": "ABX9TyMYUsuIVPXWvx1sGycV01ST",
   "machine_shape": "hm",
   "name": "Diagnosis_Preprocessing.ipynb",
   "provenance": []
  },
  "interpreter": {
   "hash": "56afda17790410e44491dcbdc7e97dc26277854b78268c60bab069a20fdd9755"
  },
  "kernelspec": {
   "display_name": "Python 3.8.8 ('covid_los_env')",
   "language": "python",
   "name": "python3"
  },
  "language_info": {
   "codemirror_mode": {
    "name": "ipython",
    "version": 3
   },
   "file_extension": ".py",
   "mimetype": "text/x-python",
   "name": "python",
   "nbconvert_exporter": "python",
   "pygments_lexer": "ipython3",
   "version": "3.8.8"
  }
 },
 "nbformat": 4,
 "nbformat_minor": 4
}
