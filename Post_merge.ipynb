{
 "cells": [
  {
   "cell_type": "code",
   "execution_count": 1,
   "metadata": {
    "executionInfo": {
     "elapsed": 362655,
     "status": "ok",
     "timestamp": 1628029495050,
     "user": {
      "displayName": "Zach Farahany",
      "photoUrl": "",
      "userId": "17909561336891020108"
     },
     "user_tz": 300
    },
    "id": "bZn6ACI622rj"
   },
   "outputs": [],
   "source": [
    "import pandas as pd\n",
    "import numpy as np\n",
    "\n",
    "#Importing all processed data\n",
    "diag = pd.read_csv('Data/data_set/diagnosis.csv', low_memory = False)\n",
    "demo = pd.read_csv('Data/data_set/demo_df.csv', low_memory = False)\n",
    "med = pd.read_csv('Data/data_set/med_df.csv', low_memory = False)\n",
    "prob = pd.read_csv('Data/data_set/prob_df.csv', low_memory = False)\n",
    "proc = pd.read_csv('Data/data_set/proc_df.csv', low_memory = False)\n",
    "soc = pd.read_csv('Data/data_set/soc_df.csv', low_memory = False)\n",
    "vitals = pd.read_csv('Data/data_set/vitals_df.csv', low_memory = False)\n",
    "diagnostics_qual = pd.read_csv('Data/data_set/diag_qual_df.csv', low_memory = False)\n",
    "diagnostics_quant = pd.read_csv('Data/data_set/diag_quant_df.csv', low_memory = False)\n",
    "\n",
    "#Resetting index to patient_num\n",
    "diag.rename(columns={'Unnamed: 0':'patient_num'},inplace= True)\n",
    "diag.set_index('patient_num',inplace= True)\n",
    "demo.rename(columns={'Unnamed: 0':'patient_num'},inplace= True)\n",
    "demo.set_index('patient_num',inplace= True)\n",
    "med.rename(columns={'Unnamed: 0':'patient_num'},inplace= True)\n",
    "med.set_index('patient_num',inplace= True)\n",
    "prob.rename(columns={'Unnamed: 0':'patient_num'},inplace= True)\n",
    "prob.set_index('patient_num',inplace= True)\n",
    "proc.rename(columns={'Unnamed: 0':'patient_num'},inplace= True)\n",
    "proc.set_index('patient_num',inplace= True)\n",
    "soc.rename(columns={'Unnamed: 0':'patient_num'},inplace= True)\n",
    "soc.set_index('patient_num',inplace= True)\n",
    "vitals.rename(columns={'Unnamed: 0':'patient_num'},inplace= True)\n",
    "vitals.set_index('patient_num',inplace= True)\n",
    "diagnostics_qual.rename(columns={'Unnamed: 0':'patient_num'},inplace= True)\n",
    "diagnostics_qual.set_index('patient_num',inplace= True)\n",
    "diagnostics_quant.rename(columns={'Unnamed: 0':'patient_num'},inplace= True)\n",
    "diagnostics_quant.set_index('patient_num',inplace= True)\n",
    "\n",
    "#Merge all of the data\n",
    "df = pd.merge(diag,demo, left_index= True,right_index= True, how = 'inner')\n",
    "df = pd.merge(df,med, left_index= True,right_index= True, how = 'inner')\n",
    "df = pd.merge(df,prob, left_index= True,right_index= True, how = 'inner')\n",
    "df = pd.merge(df,proc, left_index= True,right_index= True, how = 'inner')\n",
    "df = pd.merge(df,soc, left_index= True,right_index= True, how = 'inner')\n",
    "df = pd.merge(df,vitals, left_index= True,right_index= True, how = 'inner')\n",
    "df = pd.merge(df,diagnostics_qual, left_index= True,right_index= True, how = 'inner')\n",
    "df = pd.merge(df,diagnostics_quant, left_index= True,right_index= True, how = 'inner')\n",
    "\n",
    "#Delete imported data to save space\n",
    "del diag\n",
    "del demo\n",
    "del diagnostics_qual\n",
    "del diagnostics_quant\n",
    "del med\n",
    "del prob\n",
    "del soc\n",
    "del proc\n",
    "del vitals"
   ]
  },
  {
   "cell_type": "code",
   "execution_count": 2,
   "metadata": {},
   "outputs": [],
   "source": [
    "#NAN resolution\n",
    "df.dropna(axis = 1, thresh=.5*df.shape[0],inplace = True)\n",
    "df.dropna(axis = 0, thresh=.5*df.shape[1],inplace = True)\n",
    "df.dropna(axis = 0, subset = ['LOS'], inplace = True)"
   ]
  },
  {
   "cell_type": "code",
   "execution_count": 19,
   "metadata": {},
   "outputs": [
    {
     "data": {
      "text/plain": [
       "(11235, 36417)"
      ]
     },
     "execution_count": 19,
     "metadata": {},
     "output_type": "execute_result"
    }
   ],
   "source": [
    "df.shape"
   ]
  },
  {
   "cell_type": "code",
   "execution_count": 3,
   "metadata": {},
   "outputs": [
    {
     "data": {
      "text/plain": [
       "(11235, 35943)"
      ]
     },
     "execution_count": 3,
     "metadata": {},
     "output_type": "execute_result"
    }
   ],
   "source": [
    "df.shape"
   ]
  },
  {
   "cell_type": "code",
   "execution_count": 33,
   "metadata": {},
   "outputs": [],
   "source": [
    "#Add indicator to show which values are missing\n",
    "col_w_na = (df.isna().sum()[df.isna().sum()>0]/df.shape[0]).index\n",
    "for col in col_w_na:\n",
    "    df[col + '_na'] = pd.isna(df.loc[:,col]).astype('int')"
   ]
  },
  {
   "cell_type": "code",
   "execution_count": 39,
   "metadata": {},
   "outputs": [],
   "source": [
    "from sklearn.impute import KNNImputer\n",
    "imputer = KNNImputer(n_neighbors=1, weights=\"distance\")\n",
    "knnimputed_df = pd.DataFrame(data = imputer.fit_transform(df),columns= df.columns,index = df.index)"
   ]
  },
  {
   "cell_type": "code",
   "execution_count": 46,
   "metadata": {},
   "outputs": [],
   "source": [
    "knnimputed_df.to_csv('Data/final_dataset/df.csv')"
   ]
  }
 ],
 "metadata": {
  "accelerator": "TPU",
  "colab": {
   "authorship_tag": "ABX9TyOMBfVQjx6ClUQb5k5Ps0e1",
   "collapsed_sections": [],
   "machine_shape": "hm",
   "name": "Merge_all.ipynb",
   "provenance": []
  },
  "interpreter": {
   "hash": "56afda17790410e44491dcbdc7e97dc26277854b78268c60bab069a20fdd9755"
  },
  "kernelspec": {
   "display_name": "Python 3.8.8 ('covid_los_env')",
   "language": "python",
   "name": "python3"
  },
  "language_info": {
   "codemirror_mode": {
    "name": "ipython",
    "version": 3
   },
   "file_extension": ".py",
   "mimetype": "text/x-python",
   "name": "python",
   "nbconvert_exporter": "python",
   "pygments_lexer": "ipython3",
   "version": "3.8.8"
  }
 },
 "nbformat": 4,
 "nbformat_minor": 4
}
